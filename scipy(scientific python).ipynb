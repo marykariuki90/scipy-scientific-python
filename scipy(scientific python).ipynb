{
 "cells": [
  {
   "cell_type": "code",
   "execution_count": 4,
   "id": "44471f87",
   "metadata": {},
   "outputs": [
    {
     "name": "stdout",
     "output_type": "stream",
     "text": [
      "[-0.73908513]\n",
      "    fjac: array([[-1.]])\n",
      "     fun: array([0.])\n",
      " message: 'The solution converged.'\n",
      "    nfev: 9\n",
      "     qtf: array([-2.66786593e-13])\n",
      "       r: array([-1.67361202])\n",
      "  status: 1\n",
      " success: True\n",
      "       x: array([-0.73908513])\n"
     ]
    }
   ],
   "source": [
    "#find the root of x+cos(x)\n",
    "from scipy.optimize import root\n",
    "from math import cos\n",
    "def eqn(x):\n",
    "    return x+cos(x)\n",
    "myroot=root(eqn,0)\n",
    "print(myroot.x)\n",
    "#printing all the information\n",
    "print(myroot)"
   ]
  },
  {
   "cell_type": "code",
   "execution_count": 10,
   "id": "ef9c1e8c",
   "metadata": {},
   "outputs": [
    {
     "name": "stdout",
     "output_type": "stream",
     "text": [
      "      fun: 1.75\n",
      " hess_inv: array([[0.50000001]])\n",
      "      jac: array([0.])\n",
      "  message: 'Optimization terminated successfully.'\n",
      "     nfev: 8\n",
      "      nit: 2\n",
      "     njev: 4\n",
      "   status: 0\n",
      "  success: True\n",
      "        x: array([-0.50000001])\n"
     ]
    }
   ],
   "source": [
    "# Minimize the function x^2 + x + 2 with BFGS\n",
    "from scipy.optimize import minimize\n",
    "def eqn(x):\n",
    "    return x**2 + x + 2\n",
    "mymin = minimize(eqn, 0, method='BFGS')\n",
    "print(mymin)\n"
   ]
  },
  {
   "cell_type": "code",
   "execution_count": 1,
   "id": "7b05779f",
   "metadata": {},
   "outputs": [
    {
     "name": "stdout",
     "output_type": "stream",
     "text": [
      "  (0, 5)\t1\n",
      "  (0, 6)\t1\n",
      "  (0, 8)\t2\n"
     ]
    }
   ],
   "source": [
    "#csr_matrix\n",
    "import numpy as np\n",
    "from scipy.sparse import csr_matrix\n",
    "arr=np.array([0,0,0,0,0,1,1,0,2])\n",
    "print(csr_matrix(arr))"
   ]
  },
  {
   "cell_type": "code",
   "execution_count": 2,
   "id": "791405aa",
   "metadata": {},
   "outputs": [
    {
     "name": "stdout",
     "output_type": "stream",
     "text": [
      "[1 1 2]\n"
     ]
    }
   ],
   "source": [
    "#viewing non zero using data property\n",
    "import numpy as np\n",
    "from scipy.sparse import csr_matrix\n",
    "arr=np.array([0,0,0,0,0,1,1,0,2])\n",
    "print(csr_matrix(arr).data)"
   ]
  },
  {
   "cell_type": "code",
   "execution_count": 4,
   "id": "3d9235dc",
   "metadata": {},
   "outputs": [
    {
     "name": "stdout",
     "output_type": "stream",
     "text": [
      "3\n"
     ]
    }
   ],
   "source": [
    "#counting non_zero\n",
    "import numpy as  np\n",
    "from scipy.sparse import csr_matrix\n",
    "arr=np.array([[0,0,0],[0,6,0],[0,2,1]])\n",
    "print(csr_matrix(arr).count_nonzero())"
   ]
  },
  {
   "cell_type": "code",
   "execution_count": 6,
   "id": "a59f6217",
   "metadata": {},
   "outputs": [
    {
     "name": "stdout",
     "output_type": "stream",
     "text": [
      "  (1, 1)\t6\n",
      "  (2, 1)\t2\n",
      "  (2, 2)\t1\n"
     ]
    }
   ],
   "source": [
    "import numpy as  np\n",
    "from scipy.sparse import csr_matrix\n",
    "arr=np.array([[0,0,0],[0,6,0],[0,2,1]])\n",
    "mat=csr_matrix(arr)\n",
    "mat.eliminate_zeros()\n",
    "print(mat)"
   ]
  },
  {
   "cell_type": "code",
   "execution_count": 7,
   "id": "9c874398",
   "metadata": {},
   "outputs": [
    {
     "name": "stdout",
     "output_type": "stream",
     "text": [
      "  (1, 1)\t6\n",
      "  (2, 1)\t2\n",
      "  (2, 2)\t1\n"
     ]
    }
   ],
   "source": [
    "import numpy as  np\n",
    "from scipy.sparse import csr_matrix\n",
    "arr=np.array([[0,0,0],[0,6,0],[0,2,1]])\n",
    "print(csr_matrix(arr).tocsc())\n"
   ]
  },
  {
   "cell_type": "code",
   "execution_count": 8,
   "id": "45d9e48f",
   "metadata": {},
   "outputs": [
    {
     "name": "stdout",
     "output_type": "stream",
     "text": [
      "(1, array([0, 0, 0]))\n"
     ]
    }
   ],
   "source": [
    "#adjacency matrix\n",
    "from scipy.sparse  import csr_matrix\n",
    "from scipy.sparse.csgraph import connected_components\n",
    "import numpy as np\n",
    "arr=np.array([[0,0,0],[2,0,3],[6,0,2]])\n",
    "new_arr=csr_matrix(arr)\n",
    "print(connected_components(new_arr))"
   ]
  },
  {
   "cell_type": "code",
   "execution_count": 12,
   "id": "29ba0820",
   "metadata": {},
   "outputs": [
    {
     "name": "stdout",
     "output_type": "stream",
     "text": [
      "(array([ 0., inf, inf]), array([-9999, -9999, -9999]))\n"
     ]
    }
   ],
   "source": [
    "#Find the shortest path from element 1 to 2:\n",
    "import numpy as  np\n",
    "from scipy.sparse import csr_matrix\n",
    "from scipy.sparse.csgraph import dijkstra\n",
    "arr=np.array([[0,0,0],[0,6,0],[0,2,1]])\n",
    "mat=csr_matrix(arr)\n",
    "print(dijkstra(mat, return_predecessors=True,indices=0))"
   ]
  },
  {
   "cell_type": "code",
   "execution_count": 13,
   "id": "6c10be6e",
   "metadata": {},
   "outputs": [
    {
     "name": "stdout",
     "output_type": "stream",
     "text": [
      "(array([[ 0., inf, inf],\n",
      "       [inf,  0., inf],\n",
      "       [inf,  2.,  0.]]), array([[-9999, -9999, -9999],\n",
      "       [-9999, -9999, -9999],\n",
      "       [-9999,     2, -9999]]))\n"
     ]
    }
   ],
   "source": [
    "#finding the shortest path between all pairs elements\n",
    "import numpy as np\n",
    "from scipy.sparse.csgraph import floyd_warshall\n",
    "from scipy.sparse import csr_matrix\n",
    "arr=np.array([[0,0,0],[0,6,0],[0,2,1]])\n",
    "mat=csr_matrix(arr)\n",
    "print(floyd_warshall(mat, return_predecessors=True))\n"
   ]
  },
  {
   "cell_type": "code",
   "execution_count": 14,
   "id": "c5b14dbd",
   "metadata": {},
   "outputs": [
    {
     "name": "stdout",
     "output_type": "stream",
     "text": [
      "(array([ 0., inf, inf]), array([-9999, -9999, -9999]))\n"
     ]
    }
   ],
   "source": [
    "import numpy as  np\n",
    "from scipy.sparse import csr_matrix\n",
    "from scipy.sparse.csgraph import bellman_ford\n",
    "arr=np.array([[0,0,0],[0,-6,0],[0,2,1]])\n",
    "mat=csr_matrix(arr)\n",
    "print(bellman_ford(mat, return_predecessors=True,indices=0))"
   ]
  },
  {
   "cell_type": "code",
   "execution_count": 15,
   "id": "8fb6e47d",
   "metadata": {},
   "outputs": [
    {
     "name": "stdout",
     "output_type": "stream",
     "text": [
      "(array([2, 1]), array([-9999,     2, -9999]))\n"
     ]
    }
   ],
   "source": [
    "import numpy as  np\n",
    "from scipy.sparse import csr_matrix\n",
    "from scipy.sparse.csgraph import depth_first_order\n",
    "arr=np.array([[0,2,0],[0,6,0],[0,2,1]])\n",
    "mat=csr_matrix(arr)\n",
    "print(depth_first_order(mat,2 ))"
   ]
  },
  {
   "cell_type": "code",
   "execution_count": 16,
   "id": "b7fae9b6",
   "metadata": {},
   "outputs": [
    {
     "name": "stdout",
     "output_type": "stream",
     "text": [
      "(array([2, 1]), array([-9999,     2, -9999]))\n"
     ]
    }
   ],
   "source": [
    "import numpy as  np\n",
    "from scipy.sparse import csr_matrix\n",
    "from scipy.sparse.csgraph import breadth_first_order\n",
    "arr=np.array([[0,2,0],[0,6,0],[0,2,1]])\n",
    "mat=csr_matrix(arr)\n",
    "print(breadth_first_order(mat,2 ))"
   ]
  },
  {
   "cell_type": "code",
   "execution_count": 17,
   "id": "c1894fd9",
   "metadata": {},
   "outputs": [],
   "source": [
    "#triangulation\n",
    "import numpy as  np\n",
    "from matplotlib import pyplot as plt\n",
    "from scipy.spatial import Delaunay\n",
    "arr=np.array([[2,4],[3,4],[3,0],[2,2],[4,1]])\n",
    "simplices=Delaunay(arr).simplices\n",
    "plt.triplot=(arr[:, 0], arr[:, 1], simplices)\n",
    "plt.scatter=(arr[:, 0], arr[:, 1])\n",
    "plt.show()\n"
   ]
  },
  {
   "cell_type": "code",
   "execution_count": 21,
   "id": "4f145c76",
   "metadata": {},
   "outputs": [
    {
     "name": "stdout",
     "output_type": "stream",
     "text": [
      "(1.0, 3)\n"
     ]
    }
   ],
   "source": [
    "#KDTrees\n",
    "#find the nearest neighbor to point(3,6)\n",
    "from scipy.spatial import KDTree\n",
    "points=[(1,-1),(2,3),(3,-5),(4,6)]\n",
    "kdtree=KDTree(points)\n",
    "quiz=kdtree.query((3,6))\n",
    "print(quiz)"
   ]
  },
  {
   "cell_type": "code",
   "execution_count": 25,
   "id": "f3bdead4",
   "metadata": {},
   "outputs": [
    {
     "name": "stdout",
     "output_type": "stream",
     "text": [
      "11.661903789690601\n"
     ]
    }
   ],
   "source": [
    "#distance metrics\n",
    "#euclidean distance\n",
    "#find the euclidean distance between two points\n",
    "from scipy.spatial.distance import euclidean\n",
    "p1=(16,10)\n",
    "p2=(10,20)\n",
    "res=euclidean(p1,p2)\n",
    "print(res)\n"
   ]
  },
  {
   "cell_type": "code",
   "execution_count": 26,
   "id": "79836a8b",
   "metadata": {},
   "outputs": [
    {
     "name": "stdout",
     "output_type": "stream",
     "text": [
      "3\n"
     ]
    }
   ],
   "source": [
    "#cityblock distance\n",
    "from scipy.spatial.distance import cityblock\n",
    "p1=(2,7)\n",
    "p2=(4,8)\n",
    "dist=cityblock(p1,p2)\n",
    "print(dist)"
   ]
  },
  {
   "cell_type": "code",
   "execution_count": 27,
   "id": "4622f777",
   "metadata": {},
   "outputs": [
    {
     "name": "stdout",
     "output_type": "stream",
     "text": [
      "0.01712781306567812\n"
     ]
    }
   ],
   "source": [
    "#cosine distance\n",
    "from scipy.spatial.distance import cosine\n",
    "p1=(2,7)\n",
    "p2=(4,8)\n",
    "dist=cosine(p1,p2)\n",
    "print(dist)"
   ]
  },
  {
   "cell_type": "code",
   "execution_count": 28,
   "id": "d50b2e0b",
   "metadata": {},
   "outputs": [
    {
     "name": "stdout",
     "output_type": "stream",
     "text": [
      "0.3333333333333333\n"
     ]
    }
   ],
   "source": [
    "#hamming distance\n",
    "#find the hamming distance between given points\n",
    "from scipy.spatial.distance import hamming\n",
    "p1=(True,False,True)\n",
    "p2=(False,False,True)\n",
    "dist=hamming(p1,p2)\n",
    "print(dist)"
   ]
  },
  {
   "cell_type": "markdown",
   "id": "85e8615a",
   "metadata": {},
   "source": [
    "# matlab arrays"
   ]
  },
  {
   "cell_type": "code",
   "execution_count": 30,
   "id": "e231a352",
   "metadata": {},
   "outputs": [],
   "source": [
    "from scipy import io\n",
    "import numpy as np\n",
    "arr=np.array(10)\n",
    "io.savemat(\"arr.mat\",{'vec':arr})"
   ]
  },
  {
   "cell_type": "code",
   "execution_count": 31,
   "id": "413e1204",
   "metadata": {},
   "outputs": [
    {
     "name": "stdout",
     "output_type": "stream",
     "text": [
      "{'__header__': b'MATLAB 5.0 MAT-file Platform: nt, Created on: Tue Jan 10 08:28:41 2023', '__version__': '1.0', '__globals__': [], 'vec': array([[1, 2, 3, 4, 5, 6, 7]])}\n"
     ]
    }
   ],
   "source": [
    "#import the array from the following mat file\n",
    "from scipy import io\n",
    "import numpy as np\n",
    "arr=np.array([1,2,3,4,5,6,7])\n",
    "#exporting\n",
    "io.savemat(\"arr.mat\",{'vec':arr})\n",
    "#importing\n",
    "data=io.loadmat('arr.mat')\n",
    "print(data)\n"
   ]
  },
  {
   "cell_type": "code",
   "execution_count": 32,
   "id": "52ababad",
   "metadata": {},
   "outputs": [
    {
     "name": "stdout",
     "output_type": "stream",
     "text": [
      "[[1 2 3 4 5 6 7]]\n"
     ]
    }
   ],
   "source": [
    "print(data['vec'])"
   ]
  },
  {
   "cell_type": "code",
   "execution_count": 33,
   "id": "760ae06a",
   "metadata": {},
   "outputs": [
    {
     "name": "stdout",
     "output_type": "stream",
     "text": [
      "[1 2 3 4 5 6 7]\n"
     ]
    }
   ],
   "source": [
    "#the output above changes from 1-D to 2-D to solve this\n",
    "#we can pass another argument\n",
    "data=io.loadmat('arr.mat',squeeze_me=True)\n",
    "print(data['vec'])"
   ]
  },
  {
   "cell_type": "markdown",
   "id": "add652f4",
   "metadata": {},
   "source": [
    "# interpolation"
   ]
  },
  {
   "cell_type": "code",
   "execution_count": 44,
   "id": "c2ab85e6",
   "metadata": {},
   "outputs": [
    {
     "name": "stdout",
     "output_type": "stream",
     "text": [
      "[5.2 5.4 5.6 5.8 6.  6.2 6.4 6.6 6.8 7.  7.2 7.4 7.6 7.8 8.  8.2 8.4 8.6\n",
      " 8.8]\n"
     ]
    }
   ],
   "source": [
    "#interpolation of 1-D\n",
    "from scipy.interpolate import interp1d\n",
    "import numpy as np\n",
    "xs=np.arange(10)\n",
    "ys=2*xs +1\n",
    "interp_func=interp1d(xs,ys)\n",
    "newarr=interp_func(np.arange(2.1,4,0.1))\n",
    "print(newarr)"
   ]
  },
  {
   "cell_type": "code",
   "execution_count": 47,
   "id": "010e7e50",
   "metadata": {},
   "outputs": [
    {
     "name": "stdout",
     "output_type": "stream",
     "text": [
      "[ 5.6998881   5.91561217  6.15684727  6.42650265  6.72748754  7.06271116\n",
      "  7.43508274  7.84751152  8.30290673  8.80417759  9.35423334  9.95598321\n",
      " 10.61233642 11.32620221 12.10048981 12.93810845 13.84196736 14.81497576\n",
      " 15.86004289]\n"
     ]
    }
   ],
   "source": [
    "from scipy.interpolate import UnivariateSpline\n",
    "import numpy as np\n",
    "xs=np.arange(10)\n",
    "ys=2**xs + np.sin(xs)+1\n",
    "interp_func=UnivariateSpline(xs,ys)\n",
    "newarr=interp_func(np.arange(2.1,4,0.1))\n",
    "print(newarr)"
   ]
  },
  {
   "cell_type": "markdown",
   "id": "573378c4",
   "metadata": {},
   "source": [
    "# statistical description of data"
   ]
  },
  {
   "cell_type": "code",
   "execution_count": 48,
   "id": "99b6a402",
   "metadata": {},
   "outputs": [
    {
     "name": "stdout",
     "output_type": "stream",
     "text": [
      "DescribeResult(nobs=100, minmax=(-1.8866964220399514, 1.9923451442386948), mean=-0.0350229981640833, variance=0.8403551385371084, skewness=0.1835999157761776, kurtosis=-0.5631762198590091)\n"
     ]
    }
   ],
   "source": [
    "#show the statistical description of the velues in an array\n",
    "import numpy as np\n",
    "from scipy.stats import describe\n",
    "v=np.random.normal(size=100)\n",
    "test=describe(v)\n",
    "print(test)"
   ]
  },
  {
   "cell_type": "markdown",
   "id": "7440541f",
   "metadata": {},
   "source": [
    "# skewness and kurtosis"
   ]
  },
  {
   "cell_type": "code",
   "execution_count": 49,
   "id": "ff21576e",
   "metadata": {},
   "outputs": [
    {
     "name": "stdout",
     "output_type": "stream",
     "text": [
      "0.0749892181330708\n",
      "-0.1090101744754497\n"
     ]
    }
   ],
   "source": [
    "import numpy as np\n",
    "from scipy.stats import skew,kurtosis\n",
    "v=np.random.normal(size=100)\n",
    "print(skew(v))\n",
    "print(kurtosis(v))\n",
    "#from the  output the skewness is at right\n",
    "#from the output the kurtosis is lightly tailed"
   ]
  },
  {
   "cell_type": "code",
   "execution_count": null,
   "id": "ba2578de",
   "metadata": {},
   "outputs": [],
   "source": []
  }
 ],
 "metadata": {
  "kernelspec": {
   "display_name": "Python 3 (ipykernel)",
   "language": "python",
   "name": "python3"
  },
  "language_info": {
   "codemirror_mode": {
    "name": "ipython",
    "version": 3
   },
   "file_extension": ".py",
   "mimetype": "text/x-python",
   "name": "python",
   "nbconvert_exporter": "python",
   "pygments_lexer": "ipython3",
   "version": "3.9.7"
  }
 },
 "nbformat": 4,
 "nbformat_minor": 5
}
